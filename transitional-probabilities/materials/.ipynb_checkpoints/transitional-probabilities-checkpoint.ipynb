{
 "cells": [
  {
   "cell_type": "code",
   "execution_count": 1,
   "metadata": {
    "collapsed": true
   },
   "outputs": [],
   "source": [
    "#Import the packages you need here\n",
    "from __future__ import division #decimal division\n",
    "import re #package for regular expressions"
   ]
  },
  {
   "cell_type": "code",
   "execution_count": 2,
   "metadata": {
    "code_folding": [
     0
    ],
    "collapsed": true
   },
   "outputs": [],
   "source": [
    "def readStimuli(filename):\n",
    "    \"\"\" Reads syllables from a text file.\n",
    "    Returns a list of syllables \"\"\"\n",
    "\n",
    "    # initialize the return list as an empty list\n",
    "    result = []\n",
    "\n",
    "    # open the file for reading and loop over the lines\n",
    "    for line in open(filename, 'r'):\n",
    "        # get rid of end-of-line ('\\n') symbols \n",
    "        sline = line.strip()\n",
    "        syll = re.findall('..',sline)\n",
    "        result.extend(syll)\n",
    "\n",
    "    # now that the result list is filled up, return it\n",
    "    return result"
   ]
  },
  {
   "cell_type": "code",
   "execution_count": 3,
   "metadata": {
    "code_folding": [
     0
    ],
    "collapsed": true
   },
   "outputs": [],
   "source": [
    "def count(list_of_syllables):\n",
    "    \"\"\" Extract counts of uni- & bigram occurrences from sequence\n",
    "    of syllables in list_of_syllables \"\"\"\n",
    "\n",
    "    # dictionaries to hold the counts of the unigrams & bigrams\n",
    "    unigram_dict = {}\n",
    "    bigram_dict = {}\n",
    "\n",
    "    # loop over the indices of list_of_syllables until the first to last element\n",
    "    for syll_idx in range(len(list_of_syllables)):\n",
    "        # form unigram of syllables at index\n",
    "        unigram = list_of_syllables[syll_idx]\n",
    "\n",
    "        # see if we have already seen this unigram\n",
    "        if unigram in unigram_dict:\n",
    "            # if so, up the count by 1\n",
    "            unigram_dict[unigram] += 1\n",
    "        else:\n",
    "            # if not, set the count to 1\n",
    "            unigram_dict[unigram] = 1\n",
    "\n",
    "    #... (extend code for bigrams) \n",
    "    #Hint: store the two syllables of the bigram in a tuple\n",
    "\n",
    "    # return the dictionaries with the unigram and bigram counts\n",
    "    return unigram_dict, bigram_dict"
   ]
  },
  {
   "cell_type": "code",
   "execution_count": 4,
   "metadata": {
    "collapsed": true
   },
   "outputs": [],
   "source": [
    "def TP(bigram, unigram_dict, bigram_dict):\n",
    "    \"\"\" Compute the transitional probability for bigram=(syll_1, syll_2): \n",
    "    P(syll_2 | syll_1) = counts (syll_1,syll_2) / counts syll_1.\n",
    "    \"\"\"\n",
    "\n",
    "    # check if bigram is in our bigram dict\n",
    "    # if so, set count to the value from bigram_dict\n",
    "        #... COMPLETE\n",
    "\n",
    "    # divide the (bigram) count by the unigram count of the first syllable to get the probability\n",
    "    #... COMPLETE\n",
    "\n",
    "    # return the calculated probability"
   ]
  },
  {
   "cell_type": "code",
   "execution_count": 5,
   "metadata": {
    "collapsed": true
   },
   "outputs": [],
   "source": [
    "def sequenceProbability(list_of_syllables, unigram_dict, bigram_dict):\n",
    "    \"\"\" Estimate probability of sequence of syllables,\n",
    "    represented as a list \"\"\"\n",
    "    \n",
    "    # Create a variable to accumulate your result. Set it to 1 initially.\n",
    "    p = 1.\n",
    "\n",
    "    # loop over sequence indices\n",
    "    for syll_idx in range(len(list_of_syllables) - 1):\n",
    "        # read a bigram tuple from subsequent syllables\n",
    "        bigram = (list_of_syllables[syll_idx], list_of_syllables[syll_idx + 1])\n",
    "        \n",
    "        # multiply previous probability with probability of this bigram\n",
    "        #  ... (COMPLETE)\n",
    "\n",
    "    # return the estimated probability of the entire sequence\n",
    "    # COMPLETE"
   ]
  },
  {
   "cell_type": "code",
   "execution_count": 11,
   "metadata": {},
   "outputs": [
    {
     "name": "stdout",
     "output_type": "stream",
     "text": [
      "This is Lab #2 of CMLM :)\n",
      "These are the counts for unigrams:  {'pa': 45, 'bi': 45, 'ku': 45, 'ti': 45, 'bu': 45, 'do': 45, 'go': 45, 'la': 45, 'tu': 45, 'da': 45, 'ro': 45, 'pi': 45}\n"
     ]
    }
   ],
   "source": [
    "if __name__ == '__main__':\n",
    "    \n",
    "    print(\"This is Lab #2 of CMLM :)\")\n",
    "    stimuli = readStimuli(\"SaffranAslinNewport1996_2A.txt\")\n",
    "    unigram_dict, bigram_dict = count(stimuli)\n",
    "    print(\"These are the counts for unigrams: \", unigram_dict)"
   ]
  },
  {
   "cell_type": "code",
   "execution_count": null,
   "metadata": {
    "collapsed": true
   },
   "outputs": [],
   "source": []
  }
 ],
 "metadata": {
  "hide_input": false,
  "kernelspec": {
   "display_name": "Python 3",
   "language": "python",
   "name": "python3"
  },
  "language_info": {
   "codemirror_mode": {
    "name": "ipython",
    "version": 3
   },
   "file_extension": ".py",
   "mimetype": "text/x-python",
   "name": "python",
   "nbconvert_exporter": "python",
   "pygments_lexer": "ipython3",
   "version": "3.7.0"
  },
  "latex_envs": {
   "bibliofile": "biblio.bib",
   "cite_by": "apalike",
   "current_citInitial": 1,
   "eqLabelWithNumbers": true,
   "eqNumInitial": 0
  },
  "varInspector": {
   "cols": {
    "lenName": 16,
    "lenType": 16,
    "lenVar": 40
   },
   "kernels_config": {
    "python": {
     "delete_cmd_postfix": "",
     "delete_cmd_prefix": "del ",
     "library": "var_list.py",
     "varRefreshCmd": "print(var_dic_list())"
    },
    "r": {
     "delete_cmd_postfix": ") ",
     "delete_cmd_prefix": "rm(",
     "library": "var_list.r",
     "varRefreshCmd": "cat(var_dic_list()) "
    }
   },
   "types_to_exclude": [
    "module",
    "function",
    "builtin_function_or_method",
    "instance",
    "_Feature"
   ],
   "window_display": false
  }
 },
 "nbformat": 4,
 "nbformat_minor": 2
}
